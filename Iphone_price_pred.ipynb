{
 "cells": [
  {
   "cell_type": "markdown",
   "id": "b1858ff8",
   "metadata": {},
   "source": [
    "# Predicting Iphone price(in dollars) using linear regression\n",
    "We have got the data containing the iphone version and it's price in dollars.So we are going to train the model to predict the price based on the future versions."
   ]
  },
  {
   "cell_type": "markdown",
   "id": "c6497c41",
   "metadata": {},
   "source": [
    "1)Importing pandas,matplotlib and Linear Regression model"
   ]
  },
  {
   "cell_type": "code",
   "execution_count": 1,
   "id": "a190291d",
   "metadata": {},
   "outputs": [],
   "source": [
    "import pandas\n",
    "import matplotlib.pyplot as plt\n",
    "from sklearn.linear_model import LinearRegression"
   ]
  },
  {
   "cell_type": "markdown",
   "id": "484bb795",
   "metadata": {},
   "source": [
    " 2)Importing dataset"
   ]
  },
  {
   "cell_type": "code",
   "execution_count": 4,
   "id": "e8604d4c",
   "metadata": {},
   "outputs": [
    {
     "name": "stdout",
     "output_type": "stream",
     "text": [
      "   version  price\n",
      "0        1    499\n",
      "1        2    599\n",
      "2        3    599\n",
      "3        4    649\n",
      "4        5    649\n"
     ]
    }
   ],
   "source": [
    "data = pandas.read_csv('iphone_price.csv')\n",
    "print(data.head())"
   ]
  },
  {
   "cell_type": "markdown",
   "id": "2951e983",
   "metadata": {},
   "source": [
    "3)Showing a scatter plot"
   ]
  },
  {
   "cell_type": "code",
   "execution_count": 3,
   "id": "d83dd716",
   "metadata": {},
   "outputs": [
    {
     "data": {
      "image/png": "[encoded data removed]",
      "text/plain": [
       "<Figure size 432x288 with 1 Axes>"
      ]
     },
     "metadata": {
      "needs_background": "light"
     },
     "output_type": "display_data"
    }
   ],
   "source": [
    "plt.scatter(data['version'], data['price'])\n",
    "plt.show()"
   ]
  },
  {
   "cell_type": "markdown",
   "id": "332710e0",
   "metadata": {},
   "source": [
    "4)Fitting data to linear regression model"
   ]
  },
  {
   "cell_type": "code",
   "execution_count": 6,
   "id": "c1914902",
   "metadata": {},
   "outputs": [
    {
     "data": {
      "text/plain": [
       "LinearRegression()"
      ]
     },
     "execution_count": 6,
     "metadata": {},
     "output_type": "execute_result"
    }
   ],
   "source": [
    "model = LinearRegression()\n",
    "model.fit(data[['version']], data[['price']])"
   ]
  },
  {
   "cell_type": "markdown",
   "id": "bfd2455b",
   "metadata": {},
   "source": [
    "5)Printing output(for version 25)"
   ]
  },
  {
   "cell_type": "code",
   "execution_count": 9,
   "id": "8dcd2779",
   "metadata": {},
   "outputs": [
    {
     "name": "stdout",
     "output_type": "stream",
     "text": [
      "[[2153.00932401]]\n"
     ]
    },
    {
     "name": "stderr",
     "output_type": "stream",
     "text": [
      "D:\\ANACONDA\\lib\\site-packages\\sklearn\\base.py:441: UserWarning: X does not have valid feature names, but LinearRegression was fitted with feature names\n",
      "  warnings.warn(\n"
     ]
    }
   ],
   "source": [
    "print(model.predict([[25]]))"
   ]
  },
  {
   "cell_type": "code",
   "execution_count": null,
   "id": "f80f50a4",
   "metadata": {},
   "outputs": [],
   "source": []
  }
 ],
 "metadata": {
  "kernelspec": {
   "display_name": "Python 3",
   "language": "python",
   "name": "python3"
  },
  "language_info": {
   "codemirror_mode": {
    "name": "ipython",
    "version": 3
   },
   "file_extension": ".py",
   "mimetype": "text/x-python",
   "name": "python",
   "nbconvert_exporter": "python",
   "pygments_lexer": "ipython3",
   "version": "3.8.8"
  }
 },
 "nbformat": 4,
 "nbformat_minor": 5
}
